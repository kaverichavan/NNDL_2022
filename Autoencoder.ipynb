{
  "nbformat": 4,
  "nbformat_minor": 0,
  "metadata": {
    "colab": {
      "name": "Autoencoder.ipynb",
      "provenance": [],
      "authorship_tag": "ABX9TyNOPqVTaXywya8nu4ao+pL0",
      "include_colab_link": true
    },
    "kernelspec": {
      "name": "python3",
      "display_name": "Python 3"
    },
    "language_info": {
      "name": "python"
    }
  },
  "cells": [
    {
      "cell_type": "markdown",
      "metadata": {
        "id": "view-in-github",
        "colab_type": "text"
      },
      "source": [
        "<a href=\"https://colab.research.google.com/github/kaverichavan/NNDL_2022/blob/main/Autoencoder.ipynb\" target=\"_parent\"><img src=\"https://colab.research.google.com/assets/colab-badge.svg\" alt=\"Open In Colab\"/></a>"
      ]
    },
    {
      "cell_type": "markdown",
      "source": [
        "**Simple Autoencoder - Deep Learning**"
      ],
      "metadata": {
        "id": "gvsKq0SDnajY"
      }
    },
    {
      "cell_type": "code",
      "execution_count": null,
      "metadata": {
        "id": "3usTtO65nWnB"
      },
      "outputs": [],
      "source": [
        ""
      ]
    },
    {
      "cell_type": "markdown",
      "source": [
        "Theory\n",
        "Autoencoders are a type of neural network that attempts to mimic its input as closely as possible to its output. It aims to take an input, transform it into a reduced representation called code or embedding. Then, this code or embedding is transformed back into the original input. The code is also called the latent-space representation.\n"
      ],
      "metadata": {
        "id": "a4fJNkxgniac"
      }
    },
    {
      "cell_type": "markdown",
      "source": [
        "![image.png](data:image/png;base64,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)"
      ],
      "metadata": {
        "id": "hXGuDB-ZnnAP"
      }
    },
    {
      "cell_type": "markdown",
      "source": [
        "It is used to efficiently learn the data representation or representation space in an unsupervised manner. The main purpose is to learn a reduced representation of the input data.\n",
        "\n",
        "Some of the important things to know about the autoencoders are:\n",
        "\n",
        "Data-specific compression: Autoencoders compresses the data that is similar to what it had been trained on. An autoencoder trained on dog photos cannot compress human faces photos easily.\n",
        "Unsupervised: Training an autoencoder is easy as we don’t need labelled data. It is easily trained on any kind of input data.\n",
        "Lossy in nature: There is always going to be some difference between the input and output of the autoencoder. The output will always have some missing information in it."
      ],
      "metadata": {
        "id": "6BEWeoq2nqd-"
      }
    },
    {
      "cell_type": "markdown",
      "source": [
        "**Implementation**"
      ],
      "metadata": {
        "id": "n4S3fgIUnu0J"
      }
    },
    {
      "cell_type": "code",
      "source": [
        "import os\n",
        "os.environ[\"TF_CPP_MIN_LOG_LEVEL\"] = \"2\""
      ],
      "metadata": {
        "id": "zpS1vlJPnyW7"
      },
      "execution_count": 1,
      "outputs": []
    },
    {
      "cell_type": "code",
      "source": [
        "import numpy as np\n",
        "import matplotlib.pyplot as plt\n",
        "import tensorflow as tf\n",
        "from tensorflow.keras.layers import Input, Dense\n",
        "from tensorflow.keras.models import Model\n",
        "from tensorflow.keras.optimizers import Adam\n",
        "print(\"\")"
      ],
      "metadata": {
        "colab": {
          "base_uri": "https://localhost:8080/"
        },
        "id": "Vt0xquoFn2hW",
        "outputId": "a80c19ef-a107-4d8a-d4f4-6126fa50878f"
      },
      "execution_count": 2,
      "outputs": [
        {
          "output_type": "stream",
          "name": "stdout",
          "text": [
            "\n"
          ]
        }
      ]
    },
    {
      "cell_type": "code",
      "source": [
        "## Seeding\n",
        "np.random.seed(42)\n",
        "tf.random.set_seed(42)"
      ],
      "metadata": {
        "id": "d-rHbEEln4qI"
      },
      "execution_count": 3,
      "outputs": []
    },
    {
      "cell_type": "code",
      "source": [
        "## Loading the MNIST dataset and then normalizing the images.\n",
        "#Autoencoder comes under unsupervised category so we dont provide y_test, y_train\n",
        "dataset = tf.keras.datasets.mnist\n",
        "(x_train, y_train),(x_test, y_test) = dataset.load_data()\n",
        "print(f\"Original size: {x_train.shape} - {x_test.shape}\")  \n",
        "x_train, x_test = x_train / 255.0, x_test / 255.0"
      ],
      "metadata": {
        "colab": {
          "base_uri": "https://localhost:8080/"
        },
        "id": "P1CW6NaJn58l",
        "outputId": "c69d117e-990d-4fc4-c8d2-c6ff046e32b2"
      },
      "execution_count": 4,
      "outputs": [
        {
          "output_type": "stream",
          "name": "stdout",
          "text": [
            "Downloading data from https://storage.googleapis.com/tensorflow/tf-keras-datasets/mnist.npz\n",
            "11493376/11490434 [==============================] - 0s 0us/step\n",
            "11501568/11490434 [==============================] - 0s 0us/step\n",
            "Original size: (60000, 28, 28) - (10000, 28, 28)\n"
          ]
        }
      ]
    },
    {
      "cell_type": "code",
      "source": [
        "H = 28\n",
        "W = 28\n",
        "C = 1"
      ],
      "metadata": {
        "id": "kAQhi_rMn9CR"
      },
      "execution_count": 5,
      "outputs": []
    },
    {
      "cell_type": "code",
      "source": [
        "## Flattening the images.\n",
        "x_train = np.reshape(x_train, (-1, H * W * C))\n",
        "x_test = np.reshape(x_test, (-1, H * W * C))\n",
        "print(f\"Flatten size: {x_train.shape} - {x_test.shape}\")"
      ],
      "metadata": {
        "colab": {
          "base_uri": "https://localhost:8080/"
        },
        "id": "Ki8b_3oTn-0j",
        "outputId": "4c810331-3f47-46af-9fcb-bfebd78ae5b4"
      },
      "execution_count": 6,
      "outputs": [
        {
          "output_type": "stream",
          "name": "stdout",
          "text": [
            "Flatten size: (60000, 784) - (10000, 784)\n"
          ]
        }
      ]
    },
    {
      "cell_type": "code",
      "source": [
        "## Expading the dimension of the images on the last axis.\n",
        "## This will convert them from (?, 28, 28) to (?, 28, 28, 1)\n",
        "# x_train = np.expand_dims(x_train, axis=-1)\n",
        "# x_test = np.expand_dims(x_test, axis=-1)"
      ],
      "metadata": {
        "id": "8ktwsi9aoAMV"
      },
      "execution_count": null,
      "outputs": []
    },
    {
      "cell_type": "code",
      "source": [
        "## Latent space\n",
        "latent_dim = 32"
      ],
      "metadata": {
        "id": "TPvZ3FZSoAyF"
      },
      "execution_count": 7,
      "outputs": []
    },
    {
      "cell_type": "code",
      "source": [
        "## Building the autoencoder\n",
        "inputs = Input(shape=(H*W*C,))\n",
        "h = Dense(latent_dim, activation=\"relu\")(inputs)\n",
        "outputs = Dense(H*W*C, activation=\"sigmoid\")(h)"
      ],
      "metadata": {
        "id": "gsMQaKI8oC7p"
      },
      "execution_count": 8,
      "outputs": []
    },
    {
      "cell_type": "code",
      "source": [
        "autoencoder = Model(inputs, outputs)\n",
        "autoencoder.compile(optimizer=Adam(1e-3), loss='binary_crossentropy')\n",
        "autoencoder.summary()"
      ],
      "metadata": {
        "colab": {
          "base_uri": "https://localhost:8080/"
        },
        "id": "weRLtvDeoEfP",
        "outputId": "666b1e96-6d43-411a-b734-204bca57b2f5"
      },
      "execution_count": 9,
      "outputs": [
        {
          "output_type": "stream",
          "name": "stdout",
          "text": [
            "Model: \"model\"\n",
            "_________________________________________________________________\n",
            " Layer (type)                Output Shape              Param #   \n",
            "=================================================================\n",
            " input_1 (InputLayer)        [(None, 784)]             0         \n",
            "                                                                 \n",
            " dense (Dense)               (None, 32)                25120     \n",
            "                                                                 \n",
            " dense_1 (Dense)             (None, 784)               25872     \n",
            "                                                                 \n",
            "=================================================================\n",
            "Total params: 50,992\n",
            "Trainable params: 50,992\n",
            "Non-trainable params: 0\n",
            "_________________________________________________________________\n"
          ]
        }
      ]
    },
    {
      "cell_type": "code",
      "source": [
        "## Training the autoencoder\n",
        "autoencoder.fit(\n",
        "    x_train,\n",
        "    x_train,\n",
        "    epochs=50,\n",
        "    batch_size=256,\n",
        "    shuffle=False,\n",
        "    validation_data=(x_test, x_test)\n",
        ")\n"
      ],
      "metadata": {
        "colab": {
          "base_uri": "https://localhost:8080/"
        },
        "id": "taHitIjYoGL6",
        "outputId": "f23d891a-15ca-4393-ac23-e5ef318f5cdc"
      },
      "execution_count": 10,
      "outputs": [
        {
          "output_type": "stream",
          "name": "stdout",
          "text": [
            "Epoch 1/50\n",
            "235/235 [==============================] - 3s 12ms/step - loss: 0.2867 - val_loss: 0.2032\n",
            "Epoch 2/50\n",
            "235/235 [==============================] - 3s 12ms/step - loss: 0.1834 - val_loss: 0.1670\n",
            "Epoch 3/50\n",
            "235/235 [==============================] - 3s 12ms/step - loss: 0.1568 - val_loss: 0.1473\n",
            "Epoch 4/50\n",
            "235/235 [==============================] - 3s 12ms/step - loss: 0.1408 - val_loss: 0.1336\n",
            "Epoch 5/50\n",
            "235/235 [==============================] - 3s 12ms/step - loss: 0.1292 - val_loss: 0.1235\n",
            "Epoch 6/50\n",
            "235/235 [==============================] - 3s 13ms/step - loss: 0.1210 - val_loss: 0.1163\n",
            "Epoch 7/50\n",
            "235/235 [==============================] - 3s 12ms/step - loss: 0.1150 - val_loss: 0.1111\n",
            "Epoch 8/50\n",
            "235/235 [==============================] - 3s 12ms/step - loss: 0.1106 - val_loss: 0.1073\n",
            "Epoch 9/50\n",
            "235/235 [==============================] - 3s 12ms/step - loss: 0.1070 - val_loss: 0.1046\n",
            "Epoch 10/50\n",
            "235/235 [==============================] - 3s 12ms/step - loss: 0.1042 - val_loss: 0.1025\n",
            "Epoch 11/50\n",
            "235/235 [==============================] - 3s 11ms/step - loss: 0.1019 - val_loss: 0.1004\n",
            "Epoch 12/50\n",
            "235/235 [==============================] - 3s 11ms/step - loss: 0.1001 - val_loss: 0.0984\n",
            "Epoch 13/50\n",
            "235/235 [==============================] - 3s 12ms/step - loss: 0.0986 - val_loss: 0.0969\n",
            "Epoch 14/50\n",
            "235/235 [==============================] - 3s 12ms/step - loss: 0.0974 - val_loss: 0.0958\n",
            "Epoch 15/50\n",
            "235/235 [==============================] - 3s 12ms/step - loss: 0.0965 - val_loss: 0.0951\n",
            "Epoch 16/50\n",
            "235/235 [==============================] - 3s 12ms/step - loss: 0.0959 - val_loss: 0.0946\n",
            "Epoch 17/50\n",
            "235/235 [==============================] - 3s 12ms/step - loss: 0.0954 - val_loss: 0.0942\n",
            "Epoch 18/50\n",
            "235/235 [==============================] - 3s 12ms/step - loss: 0.0951 - val_loss: 0.0939\n",
            "Epoch 19/50\n",
            "235/235 [==============================] - 3s 12ms/step - loss: 0.0948 - val_loss: 0.0937\n",
            "Epoch 20/50\n",
            "235/235 [==============================] - 3s 12ms/step - loss: 0.0946 - val_loss: 0.0934\n",
            "Epoch 21/50\n",
            "235/235 [==============================] - 3s 12ms/step - loss: 0.0944 - val_loss: 0.0933\n",
            "Epoch 22/50\n",
            "235/235 [==============================] - 3s 11ms/step - loss: 0.0942 - val_loss: 0.0931\n",
            "Epoch 23/50\n",
            "235/235 [==============================] - 3s 12ms/step - loss: 0.0941 - val_loss: 0.0930\n",
            "Epoch 24/50\n",
            "235/235 [==============================] - 3s 12ms/step - loss: 0.0940 - val_loss: 0.0929\n",
            "Epoch 25/50\n",
            "235/235 [==============================] - 3s 12ms/step - loss: 0.0939 - val_loss: 0.0928\n",
            "Epoch 26/50\n",
            "235/235 [==============================] - 3s 12ms/step - loss: 0.0938 - val_loss: 0.0927\n",
            "Epoch 27/50\n",
            "235/235 [==============================] - 3s 13ms/step - loss: 0.0938 - val_loss: 0.0927\n",
            "Epoch 28/50\n",
            "235/235 [==============================] - 3s 13ms/step - loss: 0.0937 - val_loss: 0.0926\n",
            "Epoch 29/50\n",
            "235/235 [==============================] - 3s 12ms/step - loss: 0.0936 - val_loss: 0.0925\n",
            "Epoch 30/50\n",
            "235/235 [==============================] - 3s 12ms/step - loss: 0.0936 - val_loss: 0.0925\n",
            "Epoch 31/50\n",
            "235/235 [==============================] - 3s 12ms/step - loss: 0.0935 - val_loss: 0.0924\n",
            "Epoch 32/50\n",
            "235/235 [==============================] - 3s 12ms/step - loss: 0.0935 - val_loss: 0.0924\n",
            "Epoch 33/50\n",
            "235/235 [==============================] - 3s 12ms/step - loss: 0.0934 - val_loss: 0.0924\n",
            "Epoch 34/50\n",
            "235/235 [==============================] - 3s 12ms/step - loss: 0.0934 - val_loss: 0.0923\n",
            "Epoch 35/50\n",
            "235/235 [==============================] - 3s 12ms/step - loss: 0.0933 - val_loss: 0.0923\n",
            "Epoch 36/50\n",
            "235/235 [==============================] - 3s 12ms/step - loss: 0.0933 - val_loss: 0.0922\n",
            "Epoch 37/50\n",
            "235/235 [==============================] - 3s 12ms/step - loss: 0.0933 - val_loss: 0.0922\n",
            "Epoch 38/50\n",
            "235/235 [==============================] - 3s 13ms/step - loss: 0.0932 - val_loss: 0.0922\n",
            "Epoch 39/50\n",
            "235/235 [==============================] - 3s 12ms/step - loss: 0.0932 - val_loss: 0.0921\n",
            "Epoch 40/50\n",
            "235/235 [==============================] - 3s 12ms/step - loss: 0.0932 - val_loss: 0.0921\n",
            "Epoch 41/50\n",
            "235/235 [==============================] - 3s 12ms/step - loss: 0.0932 - val_loss: 0.0921\n",
            "Epoch 42/50\n",
            "235/235 [==============================] - 3s 12ms/step - loss: 0.0931 - val_loss: 0.0921\n",
            "Epoch 43/50\n",
            "235/235 [==============================] - 3s 12ms/step - loss: 0.0931 - val_loss: 0.0920\n",
            "Epoch 44/50\n",
            "235/235 [==============================] - 3s 11ms/step - loss: 0.0931 - val_loss: 0.0920\n",
            "Epoch 45/50\n",
            "235/235 [==============================] - 3s 11ms/step - loss: 0.0931 - val_loss: 0.0920\n",
            "Epoch 46/50\n",
            "235/235 [==============================] - 3s 11ms/step - loss: 0.0930 - val_loss: 0.0920\n",
            "Epoch 47/50\n",
            "235/235 [==============================] - 3s 12ms/step - loss: 0.0930 - val_loss: 0.0920\n",
            "Epoch 48/50\n",
            "235/235 [==============================] - 3s 12ms/step - loss: 0.0930 - val_loss: 0.0919\n",
            "Epoch 49/50\n",
            "235/235 [==============================] - 3s 12ms/step - loss: 0.0930 - val_loss: 0.0919\n",
            "Epoch 50/50\n",
            "235/235 [==============================] - 3s 12ms/step - loss: 0.0930 - val_loss: 0.0919\n"
          ]
        },
        {
          "output_type": "execute_result",
          "data": {
            "text/plain": [
              "<keras.callbacks.History at 0x7faf3d297a10>"
            ]
          },
          "metadata": {},
          "execution_count": 10
        }
      ]
    },
    {
      "cell_type": "code",
      "source": [
        "test_pred_y = autoencoder.predict(x_test)"
      ],
      "metadata": {
        "id": "GifM34YsoYsy"
      },
      "execution_count": 11,
      "outputs": []
    },
    {
      "cell_type": "markdown",
      "source": [
        "**Output**"
      ],
      "metadata": {
        "id": "EiOtT1Q9o8Pe"
      }
    },
    {
      "cell_type": "code",
      "source": [
        "n = 10  ## how many digits we will display\n",
        "plt.figure(figsize=(20, 4))\n",
        "for i in range(n):\n",
        "    ## display original\n",
        "    ax = plt.subplot(2, n, i + 1)\n",
        "    ax.set_title(\"Original Image\")\n",
        "    plt.imshow(x_test[i].reshape(H, W))\n",
        "    plt.gray()\n",
        "    ax.get_xaxis().set_visible(False)\n",
        "    ax.get_yaxis().set_visible(False)\n",
        "\n",
        "    ## display reconstruction\n",
        "    ax = plt.subplot(2, n, i + 1 + n)\n",
        "    ax.set_title(\"Predicted Image\")\n",
        "    plt.imshow(test_pred_y[i].reshape(H, W))\n",
        "    plt.gray()\n",
        "    ax.get_xaxis().set_visible(False)\n",
        "    ax.get_yaxis().set_visible(False)"
      ],
      "metadata": {
        "colab": {
          "base_uri": "https://localhost:8080/",
          "height": 264
        },
        "id": "cZr9w6XSo7Z5",
        "outputId": "fbe09f31-411b-4b09-8ee5-2fa296a30a85"
      },
      "execution_count": 12,
      "outputs": [
        {
          "output_type": "display_data",
          "data": {
            "text/plain": [
              "<Figure size 1440x288 with 20 Axes>"
            ],
            "image/png": "[encoded data removed]"
          },
          "metadata": {
            "needs_background": "light"
          }
        }
      ]
    },
    {
      "cell_type": "markdown",
      "source": [
        "**Conclusion**"
      ],
      "metadata": {
        "id": "xMORuZ1xo_Ah"
      }
    },
    {
      "cell_type": "markdown",
      "source": [
        "We have learned and inplementend simple autoencoder using Tenserflow. The feature learned by the autoencoder can be used for other tasks like image classification or text classification. It is also useful for dimensionality reduction or compression of the data which can be important in some applications."
      ],
      "metadata": {
        "id": "ZRMsZcKqpCeU"
      }
    }
  ]
}